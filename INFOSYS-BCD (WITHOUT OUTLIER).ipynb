{
 "cells": [
  {
   "cell_type": "markdown",
   "id": "bce36903-7dd4-494f-a0d9-89a6e2b000ee",
   "metadata": {},
   "source": [
    "<H1>INFOSYS SPRINGBOARD - BREAST CANCER DETECTION USING ADABOOST CLASSIFIER PROJECT <B>(WITHOUT OUTLIER)</B></H1>\n",
    "<H4>Installing the necesssary libraries</H4>"
   ]
  },
  {
   "cell_type": "code",
   "execution_count": 4,
   "id": "a2e3a983-1e81-48e1-9578-643547819742",
   "metadata": {},
   "outputs": [
    {
     "name": "stdout",
     "output_type": "stream",
     "text": [
      "Requirement already satisfied: numpy in c:\\users\\91949\\appdata\\roaming\\jupyterlab-desktop\\jlab_server\\lib\\site-packages (2.1.0)\n",
      "Requirement already satisfied: pandas in c:\\users\\91949\\appdata\\roaming\\jupyterlab-desktop\\jlab_server\\lib\\site-packages (2.2.2)\n",
      "Requirement already satisfied: numpy>=1.26.0 in c:\\users\\91949\\appdata\\roaming\\jupyterlab-desktop\\jlab_server\\lib\\site-packages (from pandas) (2.1.0)\n",
      "Requirement already satisfied: python-dateutil>=2.8.2 in c:\\users\\91949\\appdata\\roaming\\jupyterlab-desktop\\jlab_server\\lib\\site-packages (from pandas) (2.9.0)\n",
      "Requirement already satisfied: pytz>=2020.1 in c:\\users\\91949\\appdata\\roaming\\jupyterlab-desktop\\jlab_server\\lib\\site-packages (from pandas) (2024.1)\n",
      "Requirement already satisfied: tzdata>=2022.7 in c:\\users\\91949\\appdata\\roaming\\jupyterlab-desktop\\jlab_server\\lib\\site-packages (from pandas) (2024.1)\n",
      "Requirement already satisfied: six>=1.5 in c:\\users\\91949\\appdata\\roaming\\jupyterlab-desktop\\jlab_server\\lib\\site-packages (from python-dateutil>=2.8.2->pandas) (1.16.0)\n"
     ]
    }
   ],
   "source": [
    "!pip install numpy\n",
    "!pip install pandas"
   ]
  },
  {
   "cell_type": "code",
   "execution_count": 10,
   "id": "f268dd3a-11c4-49d5-9969-d3df6046c960",
   "metadata": {},
   "outputs": [
    {
     "name": "stdout",
     "output_type": "stream",
     "text": [
      "Requirement already satisfied: scikit-learn in c:\\users\\91949\\appdata\\roaming\\jupyterlab-desktop\\jlab_server\\lib\\site-packages (1.5.2)\n",
      "Requirement already satisfied: numpy>=1.19.5 in c:\\users\\91949\\appdata\\roaming\\jupyterlab-desktop\\jlab_server\\lib\\site-packages (from scikit-learn) (2.1.0)\n",
      "Requirement already satisfied: scipy>=1.6.0 in c:\\users\\91949\\appdata\\roaming\\jupyterlab-desktop\\jlab_server\\lib\\site-packages (from scikit-learn) (1.14.1)\n",
      "Requirement already satisfied: joblib>=1.2.0 in c:\\users\\91949\\appdata\\roaming\\jupyterlab-desktop\\jlab_server\\lib\\site-packages (from scikit-learn) (1.4.2)\n",
      "Requirement already satisfied: threadpoolctl>=3.1.0 in c:\\users\\91949\\appdata\\roaming\\jupyterlab-desktop\\jlab_server\\lib\\site-packages (from scikit-learn) (3.5.0)\n"
     ]
    }
   ],
   "source": [
    "!pip install scikit-learn\n"
   ]
  },
  {
   "cell_type": "code",
   "execution_count": 12,
   "id": "b7b3846f-c855-4db0-8cb8-cd7419a4563d",
   "metadata": {},
   "outputs": [],
   "source": [
    "import numpy as np\n",
    "import pandas as pd\n",
    "from sklearn.preprocessing import StandardScaler\n",
    "from sklearn.model_selection import train_test_split\n",
    "from sklearn.ensemble import AdaBoostClassifier\n",
    "from sklearn.tree import DecisionTreeClassifier\n",
    "from sklearn.metrics import accuracy_score, classification_report, confusion_matrix"
   ]
  },
  {
   "cell_type": "markdown",
   "id": "5591ac50-afc3-49a1-a91b-752e26643d88",
   "metadata": {},
   "source": [
    "<h2>DATA PREPROCESSING</h2>"
   ]
  },
  {
   "cell_type": "markdown",
   "id": "afd85f5e-c016-4be4-b4e6-4129bf0a55e6",
   "metadata": {},
   "source": [
    "<h4>Reading the CSV file and naming the Columns</h4>"
   ]
  },
  {
   "cell_type": "code",
   "execution_count": 13,
   "id": "cd18dd81-4a00-492c-84c5-ea9b16ab8fd1",
   "metadata": {},
   "outputs": [],
   "source": [
    "columns = ['ID', 'Diagnosis'] + ['radius1', 'texture1', 'perimeter1', 'area1', 'smoothness1', 'compactness1', 'concavity1', 'concave_points1', 'symmetry1', 'fractal_dimension1', 'radius2', 'texture2', 'perimeter2', 'area2', 'smoothness2', 'compactness2', 'concavity2', 'concave_points2', 'symmetry2', 'fractal_dimension2', 'radius3', 'texture3', 'perimeter3', 'area3', 'smoothness3', 'compactness3', 'concavity3', 'concave_points3', 'symmetry3', 'fractal_dimension3']\n",
    "data= pd.read_csv(r\"C:\\Users\\91949\\OneDrive\\Desktop\\infosys intern\\breast+cancer+wisconsin+diagnostic\\wdbc.data\",header=None,names=columns)"
   ]
  },
  {
   "cell_type": "markdown",
   "id": "c286c87d-d03e-4a93-9c43-216b7210ec07",
   "metadata": {},
   "source": [
    "<h4><b>head()</b> is used to display the top 5 rows in the datasets</h4>"
   ]
  },
  {
   "cell_type": "code",
   "execution_count": 14,
   "id": "9989de89-f0f0-4cdd-8ec8-281c18058d4e",
   "metadata": {
    "scrolled": true
   },
   "outputs": [
    {
     "data": {
      "text/html": [
       "<div>\n",
       "<style scoped>\n",
       "    .dataframe tbody tr th:only-of-type {\n",
       "        vertical-align: middle;\n",
       "    }\n",
       "\n",
       "    .dataframe tbody tr th {\n",
       "        vertical-align: top;\n",
       "    }\n",
       "\n",
       "    .dataframe thead th {\n",
       "        text-align: right;\n",
       "    }\n",
       "</style>\n",
       "<table border=\"1\" class=\"dataframe\">\n",
       "  <thead>\n",
       "    <tr style=\"text-align: right;\">\n",
       "      <th></th>\n",
       "      <th>ID</th>\n",
       "      <th>Diagnosis</th>\n",
       "      <th>radius1</th>\n",
       "      <th>texture1</th>\n",
       "      <th>perimeter1</th>\n",
       "      <th>area1</th>\n",
       "      <th>smoothness1</th>\n",
       "      <th>compactness1</th>\n",
       "      <th>concavity1</th>\n",
       "      <th>concave_points1</th>\n",
       "      <th>...</th>\n",
       "      <th>radius3</th>\n",
       "      <th>texture3</th>\n",
       "      <th>perimeter3</th>\n",
       "      <th>area3</th>\n",
       "      <th>smoothness3</th>\n",
       "      <th>compactness3</th>\n",
       "      <th>concavity3</th>\n",
       "      <th>concave_points3</th>\n",
       "      <th>symmetry3</th>\n",
       "      <th>fractal_dimension3</th>\n",
       "    </tr>\n",
       "  </thead>\n",
       "  <tbody>\n",
       "    <tr>\n",
       "      <th>0</th>\n",
       "      <td>842302</td>\n",
       "      <td>M</td>\n",
       "      <td>17.99</td>\n",
       "      <td>10.38</td>\n",
       "      <td>122.80</td>\n",
       "      <td>1001.0</td>\n",
       "      <td>0.11840</td>\n",
       "      <td>0.27760</td>\n",
       "      <td>0.3001</td>\n",
       "      <td>0.14710</td>\n",
       "      <td>...</td>\n",
       "      <td>25.38</td>\n",
       "      <td>17.33</td>\n",
       "      <td>184.60</td>\n",
       "      <td>2019.0</td>\n",
       "      <td>0.1622</td>\n",
       "      <td>0.6656</td>\n",
       "      <td>0.7119</td>\n",
       "      <td>0.2654</td>\n",
       "      <td>0.4601</td>\n",
       "      <td>0.11890</td>\n",
       "    </tr>\n",
       "    <tr>\n",
       "      <th>1</th>\n",
       "      <td>842517</td>\n",
       "      <td>M</td>\n",
       "      <td>20.57</td>\n",
       "      <td>17.77</td>\n",
       "      <td>132.90</td>\n",
       "      <td>1326.0</td>\n",
       "      <td>0.08474</td>\n",
       "      <td>0.07864</td>\n",
       "      <td>0.0869</td>\n",
       "      <td>0.07017</td>\n",
       "      <td>...</td>\n",
       "      <td>24.99</td>\n",
       "      <td>23.41</td>\n",
       "      <td>158.80</td>\n",
       "      <td>1956.0</td>\n",
       "      <td>0.1238</td>\n",
       "      <td>0.1866</td>\n",
       "      <td>0.2416</td>\n",
       "      <td>0.1860</td>\n",
       "      <td>0.2750</td>\n",
       "      <td>0.08902</td>\n",
       "    </tr>\n",
       "    <tr>\n",
       "      <th>2</th>\n",
       "      <td>84300903</td>\n",
       "      <td>M</td>\n",
       "      <td>19.69</td>\n",
       "      <td>21.25</td>\n",
       "      <td>130.00</td>\n",
       "      <td>1203.0</td>\n",
       "      <td>0.10960</td>\n",
       "      <td>0.15990</td>\n",
       "      <td>0.1974</td>\n",
       "      <td>0.12790</td>\n",
       "      <td>...</td>\n",
       "      <td>23.57</td>\n",
       "      <td>25.53</td>\n",
       "      <td>152.50</td>\n",
       "      <td>1709.0</td>\n",
       "      <td>0.1444</td>\n",
       "      <td>0.4245</td>\n",
       "      <td>0.4504</td>\n",
       "      <td>0.2430</td>\n",
       "      <td>0.3613</td>\n",
       "      <td>0.08758</td>\n",
       "    </tr>\n",
       "    <tr>\n",
       "      <th>3</th>\n",
       "      <td>84348301</td>\n",
       "      <td>M</td>\n",
       "      <td>11.42</td>\n",
       "      <td>20.38</td>\n",
       "      <td>77.58</td>\n",
       "      <td>386.1</td>\n",
       "      <td>0.14250</td>\n",
       "      <td>0.28390</td>\n",
       "      <td>0.2414</td>\n",
       "      <td>0.10520</td>\n",
       "      <td>...</td>\n",
       "      <td>14.91</td>\n",
       "      <td>26.50</td>\n",
       "      <td>98.87</td>\n",
       "      <td>567.7</td>\n",
       "      <td>0.2098</td>\n",
       "      <td>0.8663</td>\n",
       "      <td>0.6869</td>\n",
       "      <td>0.2575</td>\n",
       "      <td>0.6638</td>\n",
       "      <td>0.17300</td>\n",
       "    </tr>\n",
       "    <tr>\n",
       "      <th>4</th>\n",
       "      <td>84358402</td>\n",
       "      <td>M</td>\n",
       "      <td>20.29</td>\n",
       "      <td>14.34</td>\n",
       "      <td>135.10</td>\n",
       "      <td>1297.0</td>\n",
       "      <td>0.10030</td>\n",
       "      <td>0.13280</td>\n",
       "      <td>0.1980</td>\n",
       "      <td>0.10430</td>\n",
       "      <td>...</td>\n",
       "      <td>22.54</td>\n",
       "      <td>16.67</td>\n",
       "      <td>152.20</td>\n",
       "      <td>1575.0</td>\n",
       "      <td>0.1374</td>\n",
       "      <td>0.2050</td>\n",
       "      <td>0.4000</td>\n",
       "      <td>0.1625</td>\n",
       "      <td>0.2364</td>\n",
       "      <td>0.07678</td>\n",
       "    </tr>\n",
       "  </tbody>\n",
       "</table>\n",
       "<p>5 rows × 32 columns</p>\n",
       "</div>"
      ],
      "text/plain": [
       "         ID Diagnosis  radius1  texture1  perimeter1   area1  smoothness1  \\\n",
       "0    842302         M    17.99     10.38      122.80  1001.0      0.11840   \n",
       "1    842517         M    20.57     17.77      132.90  1326.0      0.08474   \n",
       "2  84300903         M    19.69     21.25      130.00  1203.0      0.10960   \n",
       "3  84348301         M    11.42     20.38       77.58   386.1      0.14250   \n",
       "4  84358402         M    20.29     14.34      135.10  1297.0      0.10030   \n",
       "\n",
       "   compactness1  concavity1  concave_points1  ...  radius3  texture3  \\\n",
       "0       0.27760      0.3001          0.14710  ...    25.38     17.33   \n",
       "1       0.07864      0.0869          0.07017  ...    24.99     23.41   \n",
       "2       0.15990      0.1974          0.12790  ...    23.57     25.53   \n",
       "3       0.28390      0.2414          0.10520  ...    14.91     26.50   \n",
       "4       0.13280      0.1980          0.10430  ...    22.54     16.67   \n",
       "\n",
       "   perimeter3   area3  smoothness3  compactness3  concavity3  concave_points3  \\\n",
       "0      184.60  2019.0       0.1622        0.6656      0.7119           0.2654   \n",
       "1      158.80  1956.0       0.1238        0.1866      0.2416           0.1860   \n",
       "2      152.50  1709.0       0.1444        0.4245      0.4504           0.2430   \n",
       "3       98.87   567.7       0.2098        0.8663      0.6869           0.2575   \n",
       "4      152.20  1575.0       0.1374        0.2050      0.4000           0.1625   \n",
       "\n",
       "   symmetry3  fractal_dimension3  \n",
       "0     0.4601             0.11890  \n",
       "1     0.2750             0.08902  \n",
       "2     0.3613             0.08758  \n",
       "3     0.6638             0.17300  \n",
       "4     0.2364             0.07678  \n",
       "\n",
       "[5 rows x 32 columns]"
      ]
     },
     "execution_count": 14,
     "metadata": {},
     "output_type": "execute_result"
    }
   ],
   "source": [
    "data.head()"
   ]
  },
  {
   "cell_type": "markdown",
   "id": "d521a6e8-92a4-42c3-9062-d10a2c5a03e8",
   "metadata": {},
   "source": [
    "<h4><b>drop()</b> the Noisy data</h4>"
   ]
  },
  {
   "cell_type": "code",
   "execution_count": 15,
   "id": "1c750ef7-1e81-45ec-b469-695cddf8a70f",
   "metadata": {},
   "outputs": [],
   "source": [
    "data=data.drop(\"ID\",axis=1)"
   ]
  },
  {
   "cell_type": "markdown",
   "id": "d2cc4157-ef60-48d1-bc92-25bb772b6f9f",
   "metadata": {},
   "source": [
    "<h4><b>tail()</b> is used to display the bottom 5 rows in the dataset</h4>"
   ]
  },
  {
   "cell_type": "code",
   "execution_count": 16,
   "id": "70eb4083-3ae4-47d2-8fbf-eddc548319d9",
   "metadata": {
    "scrolled": true
   },
   "outputs": [
    {
     "data": {
      "text/html": [
       "<div>\n",
       "<style scoped>\n",
       "    .dataframe tbody tr th:only-of-type {\n",
       "        vertical-align: middle;\n",
       "    }\n",
       "\n",
       "    .dataframe tbody tr th {\n",
       "        vertical-align: top;\n",
       "    }\n",
       "\n",
       "    .dataframe thead th {\n",
       "        text-align: right;\n",
       "    }\n",
       "</style>\n",
       "<table border=\"1\" class=\"dataframe\">\n",
       "  <thead>\n",
       "    <tr style=\"text-align: right;\">\n",
       "      <th></th>\n",
       "      <th>Diagnosis</th>\n",
       "      <th>radius1</th>\n",
       "      <th>texture1</th>\n",
       "      <th>perimeter1</th>\n",
       "      <th>area1</th>\n",
       "      <th>smoothness1</th>\n",
       "      <th>compactness1</th>\n",
       "      <th>concavity1</th>\n",
       "      <th>concave_points1</th>\n",
       "      <th>symmetry1</th>\n",
       "      <th>...</th>\n",
       "      <th>radius3</th>\n",
       "      <th>texture3</th>\n",
       "      <th>perimeter3</th>\n",
       "      <th>area3</th>\n",
       "      <th>smoothness3</th>\n",
       "      <th>compactness3</th>\n",
       "      <th>concavity3</th>\n",
       "      <th>concave_points3</th>\n",
       "      <th>symmetry3</th>\n",
       "      <th>fractal_dimension3</th>\n",
       "    </tr>\n",
       "  </thead>\n",
       "  <tbody>\n",
       "    <tr>\n",
       "      <th>564</th>\n",
       "      <td>M</td>\n",
       "      <td>21.56</td>\n",
       "      <td>22.39</td>\n",
       "      <td>142.00</td>\n",
       "      <td>1479.0</td>\n",
       "      <td>0.11100</td>\n",
       "      <td>0.11590</td>\n",
       "      <td>0.24390</td>\n",
       "      <td>0.13890</td>\n",
       "      <td>0.1726</td>\n",
       "      <td>...</td>\n",
       "      <td>25.450</td>\n",
       "      <td>26.40</td>\n",
       "      <td>166.10</td>\n",
       "      <td>2027.0</td>\n",
       "      <td>0.14100</td>\n",
       "      <td>0.21130</td>\n",
       "      <td>0.4107</td>\n",
       "      <td>0.2216</td>\n",
       "      <td>0.2060</td>\n",
       "      <td>0.07115</td>\n",
       "    </tr>\n",
       "    <tr>\n",
       "      <th>565</th>\n",
       "      <td>M</td>\n",
       "      <td>20.13</td>\n",
       "      <td>28.25</td>\n",
       "      <td>131.20</td>\n",
       "      <td>1261.0</td>\n",
       "      <td>0.09780</td>\n",
       "      <td>0.10340</td>\n",
       "      <td>0.14400</td>\n",
       "      <td>0.09791</td>\n",
       "      <td>0.1752</td>\n",
       "      <td>...</td>\n",
       "      <td>23.690</td>\n",
       "      <td>38.25</td>\n",
       "      <td>155.00</td>\n",
       "      <td>1731.0</td>\n",
       "      <td>0.11660</td>\n",
       "      <td>0.19220</td>\n",
       "      <td>0.3215</td>\n",
       "      <td>0.1628</td>\n",
       "      <td>0.2572</td>\n",
       "      <td>0.06637</td>\n",
       "    </tr>\n",
       "    <tr>\n",
       "      <th>566</th>\n",
       "      <td>M</td>\n",
       "      <td>16.60</td>\n",
       "      <td>28.08</td>\n",
       "      <td>108.30</td>\n",
       "      <td>858.1</td>\n",
       "      <td>0.08455</td>\n",
       "      <td>0.10230</td>\n",
       "      <td>0.09251</td>\n",
       "      <td>0.05302</td>\n",
       "      <td>0.1590</td>\n",
       "      <td>...</td>\n",
       "      <td>18.980</td>\n",
       "      <td>34.12</td>\n",
       "      <td>126.70</td>\n",
       "      <td>1124.0</td>\n",
       "      <td>0.11390</td>\n",
       "      <td>0.30940</td>\n",
       "      <td>0.3403</td>\n",
       "      <td>0.1418</td>\n",
       "      <td>0.2218</td>\n",
       "      <td>0.07820</td>\n",
       "    </tr>\n",
       "    <tr>\n",
       "      <th>567</th>\n",
       "      <td>M</td>\n",
       "      <td>20.60</td>\n",
       "      <td>29.33</td>\n",
       "      <td>140.10</td>\n",
       "      <td>1265.0</td>\n",
       "      <td>0.11780</td>\n",
       "      <td>0.27700</td>\n",
       "      <td>0.35140</td>\n",
       "      <td>0.15200</td>\n",
       "      <td>0.2397</td>\n",
       "      <td>...</td>\n",
       "      <td>25.740</td>\n",
       "      <td>39.42</td>\n",
       "      <td>184.60</td>\n",
       "      <td>1821.0</td>\n",
       "      <td>0.16500</td>\n",
       "      <td>0.86810</td>\n",
       "      <td>0.9387</td>\n",
       "      <td>0.2650</td>\n",
       "      <td>0.4087</td>\n",
       "      <td>0.12400</td>\n",
       "    </tr>\n",
       "    <tr>\n",
       "      <th>568</th>\n",
       "      <td>B</td>\n",
       "      <td>7.76</td>\n",
       "      <td>24.54</td>\n",
       "      <td>47.92</td>\n",
       "      <td>181.0</td>\n",
       "      <td>0.05263</td>\n",
       "      <td>0.04362</td>\n",
       "      <td>0.00000</td>\n",
       "      <td>0.00000</td>\n",
       "      <td>0.1587</td>\n",
       "      <td>...</td>\n",
       "      <td>9.456</td>\n",
       "      <td>30.37</td>\n",
       "      <td>59.16</td>\n",
       "      <td>268.6</td>\n",
       "      <td>0.08996</td>\n",
       "      <td>0.06444</td>\n",
       "      <td>0.0000</td>\n",
       "      <td>0.0000</td>\n",
       "      <td>0.2871</td>\n",
       "      <td>0.07039</td>\n",
       "    </tr>\n",
       "  </tbody>\n",
       "</table>\n",
       "<p>5 rows × 31 columns</p>\n",
       "</div>"
      ],
      "text/plain": [
       "    Diagnosis  radius1  texture1  perimeter1   area1  smoothness1  \\\n",
       "564         M    21.56     22.39      142.00  1479.0      0.11100   \n",
       "565         M    20.13     28.25      131.20  1261.0      0.09780   \n",
       "566         M    16.60     28.08      108.30   858.1      0.08455   \n",
       "567         M    20.60     29.33      140.10  1265.0      0.11780   \n",
       "568         B     7.76     24.54       47.92   181.0      0.05263   \n",
       "\n",
       "     compactness1  concavity1  concave_points1  symmetry1  ...  radius3  \\\n",
       "564       0.11590     0.24390          0.13890     0.1726  ...   25.450   \n",
       "565       0.10340     0.14400          0.09791     0.1752  ...   23.690   \n",
       "566       0.10230     0.09251          0.05302     0.1590  ...   18.980   \n",
       "567       0.27700     0.35140          0.15200     0.2397  ...   25.740   \n",
       "568       0.04362     0.00000          0.00000     0.1587  ...    9.456   \n",
       "\n",
       "     texture3  perimeter3   area3  smoothness3  compactness3  concavity3  \\\n",
       "564     26.40      166.10  2027.0      0.14100       0.21130      0.4107   \n",
       "565     38.25      155.00  1731.0      0.11660       0.19220      0.3215   \n",
       "566     34.12      126.70  1124.0      0.11390       0.30940      0.3403   \n",
       "567     39.42      184.60  1821.0      0.16500       0.86810      0.9387   \n",
       "568     30.37       59.16   268.6      0.08996       0.06444      0.0000   \n",
       "\n",
       "     concave_points3  symmetry3  fractal_dimension3  \n",
       "564           0.2216     0.2060             0.07115  \n",
       "565           0.1628     0.2572             0.06637  \n",
       "566           0.1418     0.2218             0.07820  \n",
       "567           0.2650     0.4087             0.12400  \n",
       "568           0.0000     0.2871             0.07039  \n",
       "\n",
       "[5 rows x 31 columns]"
      ]
     },
     "execution_count": 16,
     "metadata": {},
     "output_type": "execute_result"
    }
   ],
   "source": [
    "data.tail()"
   ]
  },
  {
   "cell_type": "markdown",
   "id": "d7a07bbd-7d44-4b4d-a2c5-6db09dbf1bae",
   "metadata": {},
   "source": [
    "<h2>ENCODING CATEGORICAL LABELS</h2>"
   ]
  },
  {
   "cell_type": "markdown",
   "id": "091243f4-b58a-431f-92a5-25b4be520742",
   "metadata": {},
   "source": [
    "<h4>Here, <b>map()</b> is used to replace the values of M & B with 1 & 0.</h4>"
   ]
  },
  {
   "cell_type": "code",
   "execution_count": 17,
   "id": "97df132d-c518-438b-bfac-b6037fb067ff",
   "metadata": {},
   "outputs": [],
   "source": [
    "data['Diagnosis'] = data['Diagnosis'].map({'M': 1, 'B': 0})"
   ]
  },
  {
   "cell_type": "markdown",
   "id": "540cf510-4bc2-4eb6-ab75-b5188ca1e39c",
   "metadata": {},
   "source": [
    "<h4>tail(<b>3</b>) is used to display the last 3 rows after <i>mapping</i> </h4>"
   ]
  },
  {
   "cell_type": "code",
   "execution_count": 18,
   "id": "5982dbce-f21f-4b87-b86f-d0266d95e5a6",
   "metadata": {
    "scrolled": true
   },
   "outputs": [
    {
     "data": {
      "text/html": [
       "<div>\n",
       "<style scoped>\n",
       "    .dataframe tbody tr th:only-of-type {\n",
       "        vertical-align: middle;\n",
       "    }\n",
       "\n",
       "    .dataframe tbody tr th {\n",
       "        vertical-align: top;\n",
       "    }\n",
       "\n",
       "    .dataframe thead th {\n",
       "        text-align: right;\n",
       "    }\n",
       "</style>\n",
       "<table border=\"1\" class=\"dataframe\">\n",
       "  <thead>\n",
       "    <tr style=\"text-align: right;\">\n",
       "      <th></th>\n",
       "      <th>Diagnosis</th>\n",
       "      <th>radius1</th>\n",
       "      <th>texture1</th>\n",
       "      <th>perimeter1</th>\n",
       "      <th>area1</th>\n",
       "      <th>smoothness1</th>\n",
       "      <th>compactness1</th>\n",
       "      <th>concavity1</th>\n",
       "      <th>concave_points1</th>\n",
       "      <th>symmetry1</th>\n",
       "      <th>...</th>\n",
       "      <th>radius3</th>\n",
       "      <th>texture3</th>\n",
       "      <th>perimeter3</th>\n",
       "      <th>area3</th>\n",
       "      <th>smoothness3</th>\n",
       "      <th>compactness3</th>\n",
       "      <th>concavity3</th>\n",
       "      <th>concave_points3</th>\n",
       "      <th>symmetry3</th>\n",
       "      <th>fractal_dimension3</th>\n",
       "    </tr>\n",
       "  </thead>\n",
       "  <tbody>\n",
       "    <tr>\n",
       "      <th>566</th>\n",
       "      <td>1</td>\n",
       "      <td>16.60</td>\n",
       "      <td>28.08</td>\n",
       "      <td>108.30</td>\n",
       "      <td>858.1</td>\n",
       "      <td>0.08455</td>\n",
       "      <td>0.10230</td>\n",
       "      <td>0.09251</td>\n",
       "      <td>0.05302</td>\n",
       "      <td>0.1590</td>\n",
       "      <td>...</td>\n",
       "      <td>18.980</td>\n",
       "      <td>34.12</td>\n",
       "      <td>126.70</td>\n",
       "      <td>1124.0</td>\n",
       "      <td>0.11390</td>\n",
       "      <td>0.30940</td>\n",
       "      <td>0.3403</td>\n",
       "      <td>0.1418</td>\n",
       "      <td>0.2218</td>\n",
       "      <td>0.07820</td>\n",
       "    </tr>\n",
       "    <tr>\n",
       "      <th>567</th>\n",
       "      <td>1</td>\n",
       "      <td>20.60</td>\n",
       "      <td>29.33</td>\n",
       "      <td>140.10</td>\n",
       "      <td>1265.0</td>\n",
       "      <td>0.11780</td>\n",
       "      <td>0.27700</td>\n",
       "      <td>0.35140</td>\n",
       "      <td>0.15200</td>\n",
       "      <td>0.2397</td>\n",
       "      <td>...</td>\n",
       "      <td>25.740</td>\n",
       "      <td>39.42</td>\n",
       "      <td>184.60</td>\n",
       "      <td>1821.0</td>\n",
       "      <td>0.16500</td>\n",
       "      <td>0.86810</td>\n",
       "      <td>0.9387</td>\n",
       "      <td>0.2650</td>\n",
       "      <td>0.4087</td>\n",
       "      <td>0.12400</td>\n",
       "    </tr>\n",
       "    <tr>\n",
       "      <th>568</th>\n",
       "      <td>0</td>\n",
       "      <td>7.76</td>\n",
       "      <td>24.54</td>\n",
       "      <td>47.92</td>\n",
       "      <td>181.0</td>\n",
       "      <td>0.05263</td>\n",
       "      <td>0.04362</td>\n",
       "      <td>0.00000</td>\n",
       "      <td>0.00000</td>\n",
       "      <td>0.1587</td>\n",
       "      <td>...</td>\n",
       "      <td>9.456</td>\n",
       "      <td>30.37</td>\n",
       "      <td>59.16</td>\n",
       "      <td>268.6</td>\n",
       "      <td>0.08996</td>\n",
       "      <td>0.06444</td>\n",
       "      <td>0.0000</td>\n",
       "      <td>0.0000</td>\n",
       "      <td>0.2871</td>\n",
       "      <td>0.07039</td>\n",
       "    </tr>\n",
       "  </tbody>\n",
       "</table>\n",
       "<p>3 rows × 31 columns</p>\n",
       "</div>"
      ],
      "text/plain": [
       "     Diagnosis  radius1  texture1  perimeter1   area1  smoothness1  \\\n",
       "566          1    16.60     28.08      108.30   858.1      0.08455   \n",
       "567          1    20.60     29.33      140.10  1265.0      0.11780   \n",
       "568          0     7.76     24.54       47.92   181.0      0.05263   \n",
       "\n",
       "     compactness1  concavity1  concave_points1  symmetry1  ...  radius3  \\\n",
       "566       0.10230     0.09251          0.05302     0.1590  ...   18.980   \n",
       "567       0.27700     0.35140          0.15200     0.2397  ...   25.740   \n",
       "568       0.04362     0.00000          0.00000     0.1587  ...    9.456   \n",
       "\n",
       "     texture3  perimeter3   area3  smoothness3  compactness3  concavity3  \\\n",
       "566     34.12      126.70  1124.0      0.11390       0.30940      0.3403   \n",
       "567     39.42      184.60  1821.0      0.16500       0.86810      0.9387   \n",
       "568     30.37       59.16   268.6      0.08996       0.06444      0.0000   \n",
       "\n",
       "     concave_points3  symmetry3  fractal_dimension3  \n",
       "566           0.1418     0.2218             0.07820  \n",
       "567           0.2650     0.4087             0.12400  \n",
       "568           0.0000     0.2871             0.07039  \n",
       "\n",
       "[3 rows x 31 columns]"
      ]
     },
     "execution_count": 18,
     "metadata": {},
     "output_type": "execute_result"
    }
   ],
   "source": [
    "data.tail(3)"
   ]
  },
  {
   "cell_type": "markdown",
   "id": "905d88f9-0f82-42ba-b59e-0f8f68fd2553",
   "metadata": {},
   "source": [
    "<H2>HANDLING MISSING VALUES</H2>"
   ]
  },
  {
   "cell_type": "markdown",
   "id": "db466559-8b4b-4d8b-83f5-f988d3dc4e1d",
   "metadata": {},
   "source": [
    "<h4><b>shape</b> is used to find the dimensions for the dataset</h4>"
   ]
  },
  {
   "cell_type": "code",
   "execution_count": 19,
   "id": "cad2bda1-66ef-49d9-b5da-5467f7e4d151",
   "metadata": {},
   "outputs": [
    {
     "data": {
      "text/plain": [
       "(569, 31)"
      ]
     },
     "execution_count": 19,
     "metadata": {},
     "output_type": "execute_result"
    }
   ],
   "source": [
    "data.shape"
   ]
  },
  {
   "cell_type": "markdown",
   "id": "6fdaf3c9-87ce-4f35-b0a4-38497676e423",
   "metadata": {},
   "source": [
    "<h4><b>info()</b> is used to find the summary of DataFrame</h4>"
   ]
  },
  {
   "cell_type": "code",
   "execution_count": 20,
   "id": "1301d9a1-2237-4604-8195-de3e35480c67",
   "metadata": {},
   "outputs": [
    {
     "name": "stdout",
     "output_type": "stream",
     "text": [
      "<class 'pandas.core.frame.DataFrame'>\n",
      "RangeIndex: 569 entries, 0 to 568\n",
      "Data columns (total 31 columns):\n",
      " #   Column              Non-Null Count  Dtype  \n",
      "---  ------              --------------  -----  \n",
      " 0   Diagnosis           569 non-null    int64  \n",
      " 1   radius1             569 non-null    float64\n",
      " 2   texture1            569 non-null    float64\n",
      " 3   perimeter1          569 non-null    float64\n",
      " 4   area1               569 non-null    float64\n",
      " 5   smoothness1         569 non-null    float64\n",
      " 6   compactness1        569 non-null    float64\n",
      " 7   concavity1          569 non-null    float64\n",
      " 8   concave_points1     569 non-null    float64\n",
      " 9   symmetry1           569 non-null    float64\n",
      " 10  fractal_dimension1  569 non-null    float64\n",
      " 11  radius2             569 non-null    float64\n",
      " 12  texture2            569 non-null    float64\n",
      " 13  perimeter2          569 non-null    float64\n",
      " 14  area2               569 non-null    float64\n",
      " 15  smoothness2         569 non-null    float64\n",
      " 16  compactness2        569 non-null    float64\n",
      " 17  concavity2          569 non-null    float64\n",
      " 18  concave_points2     569 non-null    float64\n",
      " 19  symmetry2           569 non-null    float64\n",
      " 20  fractal_dimension2  569 non-null    float64\n",
      " 21  radius3             569 non-null    float64\n",
      " 22  texture3            569 non-null    float64\n",
      " 23  perimeter3          569 non-null    float64\n",
      " 24  area3               569 non-null    float64\n",
      " 25  smoothness3         569 non-null    float64\n",
      " 26  compactness3        569 non-null    float64\n",
      " 27  concavity3          569 non-null    float64\n",
      " 28  concave_points3     569 non-null    float64\n",
      " 29  symmetry3           569 non-null    float64\n",
      " 30  fractal_dimension3  569 non-null    float64\n",
      "dtypes: float64(30), int64(1)\n",
      "memory usage: 137.9 KB\n"
     ]
    }
   ],
   "source": [
    "data.info()"
   ]
  },
  {
   "cell_type": "markdown",
   "id": "fb28685f-53d1-47bb-b097-2d14a328f0a8",
   "metadata": {},
   "source": [
    "<h4><b>isnull().sum()</b> is used to find the total number of null values in the dataset</h4>"
   ]
  },
  {
   "cell_type": "code",
   "execution_count": 21,
   "id": "d9752bd2-599c-4716-a12a-506026b636ab",
   "metadata": {},
   "outputs": [
    {
     "data": {
      "text/plain": [
       "Diagnosis             0\n",
       "radius1               0\n",
       "texture1              0\n",
       "perimeter1            0\n",
       "area1                 0\n",
       "smoothness1           0\n",
       "compactness1          0\n",
       "concavity1            0\n",
       "concave_points1       0\n",
       "symmetry1             0\n",
       "fractal_dimension1    0\n",
       "radius2               0\n",
       "texture2              0\n",
       "perimeter2            0\n",
       "area2                 0\n",
       "smoothness2           0\n",
       "compactness2          0\n",
       "concavity2            0\n",
       "concave_points2       0\n",
       "symmetry2             0\n",
       "fractal_dimension2    0\n",
       "radius3               0\n",
       "texture3              0\n",
       "perimeter3            0\n",
       "area3                 0\n",
       "smoothness3           0\n",
       "compactness3          0\n",
       "concavity3            0\n",
       "concave_points3       0\n",
       "symmetry3             0\n",
       "fractal_dimension3    0\n",
       "dtype: int64"
      ]
     },
     "execution_count": 21,
     "metadata": {},
     "output_type": "execute_result"
    }
   ],
   "source": [
    "data.isnull().sum()"
   ]
  },
  {
   "cell_type": "markdown",
   "id": "343bb1f1-feef-4bc7-a5e8-249d00488c2b",
   "metadata": {},
   "source": [
    "<h4><b>describe()</b> command in pandas is used to generate a summary of statistical information for numerical columns in a DataFrame and <b>T</b> is used transpose the results</h4>"
   ]
  },
  {
   "cell_type": "code",
   "execution_count": 22,
   "id": "1e47df72-000c-4af5-b8a2-bc54845d5c95",
   "metadata": {},
   "outputs": [
    {
     "data": {
      "text/html": [
       "<div>\n",
       "<style scoped>\n",
       "    .dataframe tbody tr th:only-of-type {\n",
       "        vertical-align: middle;\n",
       "    }\n",
       "\n",
       "    .dataframe tbody tr th {\n",
       "        vertical-align: top;\n",
       "    }\n",
       "\n",
       "    .dataframe thead th {\n",
       "        text-align: right;\n",
       "    }\n",
       "</style>\n",
       "<table border=\"1\" class=\"dataframe\">\n",
       "  <thead>\n",
       "    <tr style=\"text-align: right;\">\n",
       "      <th></th>\n",
       "      <th>count</th>\n",
       "      <th>mean</th>\n",
       "      <th>std</th>\n",
       "      <th>min</th>\n",
       "      <th>25%</th>\n",
       "      <th>50%</th>\n",
       "      <th>75%</th>\n",
       "      <th>max</th>\n",
       "    </tr>\n",
       "  </thead>\n",
       "  <tbody>\n",
       "    <tr>\n",
       "      <th>Diagnosis</th>\n",
       "      <td>569.0</td>\n",
       "      <td>0.372583</td>\n",
       "      <td>0.483918</td>\n",
       "      <td>0.000000</td>\n",
       "      <td>0.000000</td>\n",
       "      <td>0.000000</td>\n",
       "      <td>1.000000</td>\n",
       "      <td>1.00000</td>\n",
       "    </tr>\n",
       "    <tr>\n",
       "      <th>radius1</th>\n",
       "      <td>569.0</td>\n",
       "      <td>14.127292</td>\n",
       "      <td>3.524049</td>\n",
       "      <td>6.981000</td>\n",
       "      <td>11.700000</td>\n",
       "      <td>13.370000</td>\n",
       "      <td>15.780000</td>\n",
       "      <td>28.11000</td>\n",
       "    </tr>\n",
       "    <tr>\n",
       "      <th>texture1</th>\n",
       "      <td>569.0</td>\n",
       "      <td>19.289649</td>\n",
       "      <td>4.301036</td>\n",
       "      <td>9.710000</td>\n",
       "      <td>16.170000</td>\n",
       "      <td>18.840000</td>\n",
       "      <td>21.800000</td>\n",
       "      <td>39.28000</td>\n",
       "    </tr>\n",
       "    <tr>\n",
       "      <th>perimeter1</th>\n",
       "      <td>569.0</td>\n",
       "      <td>91.969033</td>\n",
       "      <td>24.298981</td>\n",
       "      <td>43.790000</td>\n",
       "      <td>75.170000</td>\n",
       "      <td>86.240000</td>\n",
       "      <td>104.100000</td>\n",
       "      <td>188.50000</td>\n",
       "    </tr>\n",
       "    <tr>\n",
       "      <th>area1</th>\n",
       "      <td>569.0</td>\n",
       "      <td>654.889104</td>\n",
       "      <td>351.914129</td>\n",
       "      <td>143.500000</td>\n",
       "      <td>420.300000</td>\n",
       "      <td>551.100000</td>\n",
       "      <td>782.700000</td>\n",
       "      <td>2501.00000</td>\n",
       "    </tr>\n",
       "    <tr>\n",
       "      <th>smoothness1</th>\n",
       "      <td>569.0</td>\n",
       "      <td>0.096360</td>\n",
       "      <td>0.014064</td>\n",
       "      <td>0.052630</td>\n",
       "      <td>0.086370</td>\n",
       "      <td>0.095870</td>\n",
       "      <td>0.105300</td>\n",
       "      <td>0.16340</td>\n",
       "    </tr>\n",
       "    <tr>\n",
       "      <th>compactness1</th>\n",
       "      <td>569.0</td>\n",
       "      <td>0.104341</td>\n",
       "      <td>0.052813</td>\n",
       "      <td>0.019380</td>\n",
       "      <td>0.064920</td>\n",
       "      <td>0.092630</td>\n",
       "      <td>0.130400</td>\n",
       "      <td>0.34540</td>\n",
       "    </tr>\n",
       "    <tr>\n",
       "      <th>concavity1</th>\n",
       "      <td>569.0</td>\n",
       "      <td>0.088799</td>\n",
       "      <td>0.079720</td>\n",
       "      <td>0.000000</td>\n",
       "      <td>0.029560</td>\n",
       "      <td>0.061540</td>\n",
       "      <td>0.130700</td>\n",
       "      <td>0.42680</td>\n",
       "    </tr>\n",
       "    <tr>\n",
       "      <th>concave_points1</th>\n",
       "      <td>569.0</td>\n",
       "      <td>0.048919</td>\n",
       "      <td>0.038803</td>\n",
       "      <td>0.000000</td>\n",
       "      <td>0.020310</td>\n",
       "      <td>0.033500</td>\n",
       "      <td>0.074000</td>\n",
       "      <td>0.20120</td>\n",
       "    </tr>\n",
       "    <tr>\n",
       "      <th>symmetry1</th>\n",
       "      <td>569.0</td>\n",
       "      <td>0.181162</td>\n",
       "      <td>0.027414</td>\n",
       "      <td>0.106000</td>\n",
       "      <td>0.161900</td>\n",
       "      <td>0.179200</td>\n",
       "      <td>0.195700</td>\n",
       "      <td>0.30400</td>\n",
       "    </tr>\n",
       "    <tr>\n",
       "      <th>fractal_dimension1</th>\n",
       "      <td>569.0</td>\n",
       "      <td>0.062798</td>\n",
       "      <td>0.007060</td>\n",
       "      <td>0.049960</td>\n",
       "      <td>0.057700</td>\n",
       "      <td>0.061540</td>\n",
       "      <td>0.066120</td>\n",
       "      <td>0.09744</td>\n",
       "    </tr>\n",
       "    <tr>\n",
       "      <th>radius2</th>\n",
       "      <td>569.0</td>\n",
       "      <td>0.405172</td>\n",
       "      <td>0.277313</td>\n",
       "      <td>0.111500</td>\n",
       "      <td>0.232400</td>\n",
       "      <td>0.324200</td>\n",
       "      <td>0.478900</td>\n",
       "      <td>2.87300</td>\n",
       "    </tr>\n",
       "    <tr>\n",
       "      <th>texture2</th>\n",
       "      <td>569.0</td>\n",
       "      <td>1.216853</td>\n",
       "      <td>0.551648</td>\n",
       "      <td>0.360200</td>\n",
       "      <td>0.833900</td>\n",
       "      <td>1.108000</td>\n",
       "      <td>1.474000</td>\n",
       "      <td>4.88500</td>\n",
       "    </tr>\n",
       "    <tr>\n",
       "      <th>perimeter2</th>\n",
       "      <td>569.0</td>\n",
       "      <td>2.866059</td>\n",
       "      <td>2.021855</td>\n",
       "      <td>0.757000</td>\n",
       "      <td>1.606000</td>\n",
       "      <td>2.287000</td>\n",
       "      <td>3.357000</td>\n",
       "      <td>21.98000</td>\n",
       "    </tr>\n",
       "    <tr>\n",
       "      <th>area2</th>\n",
       "      <td>569.0</td>\n",
       "      <td>40.337079</td>\n",
       "      <td>45.491006</td>\n",
       "      <td>6.802000</td>\n",
       "      <td>17.850000</td>\n",
       "      <td>24.530000</td>\n",
       "      <td>45.190000</td>\n",
       "      <td>542.20000</td>\n",
       "    </tr>\n",
       "    <tr>\n",
       "      <th>smoothness2</th>\n",
       "      <td>569.0</td>\n",
       "      <td>0.007041</td>\n",
       "      <td>0.003003</td>\n",
       "      <td>0.001713</td>\n",
       "      <td>0.005169</td>\n",
       "      <td>0.006380</td>\n",
       "      <td>0.008146</td>\n",
       "      <td>0.03113</td>\n",
       "    </tr>\n",
       "    <tr>\n",
       "      <th>compactness2</th>\n",
       "      <td>569.0</td>\n",
       "      <td>0.025478</td>\n",
       "      <td>0.017908</td>\n",
       "      <td>0.002252</td>\n",
       "      <td>0.013080</td>\n",
       "      <td>0.020450</td>\n",
       "      <td>0.032450</td>\n",
       "      <td>0.13540</td>\n",
       "    </tr>\n",
       "    <tr>\n",
       "      <th>concavity2</th>\n",
       "      <td>569.0</td>\n",
       "      <td>0.031894</td>\n",
       "      <td>0.030186</td>\n",
       "      <td>0.000000</td>\n",
       "      <td>0.015090</td>\n",
       "      <td>0.025890</td>\n",
       "      <td>0.042050</td>\n",
       "      <td>0.39600</td>\n",
       "    </tr>\n",
       "    <tr>\n",
       "      <th>concave_points2</th>\n",
       "      <td>569.0</td>\n",
       "      <td>0.011796</td>\n",
       "      <td>0.006170</td>\n",
       "      <td>0.000000</td>\n",
       "      <td>0.007638</td>\n",
       "      <td>0.010930</td>\n",
       "      <td>0.014710</td>\n",
       "      <td>0.05279</td>\n",
       "    </tr>\n",
       "    <tr>\n",
       "      <th>symmetry2</th>\n",
       "      <td>569.0</td>\n",
       "      <td>0.020542</td>\n",
       "      <td>0.008266</td>\n",
       "      <td>0.007882</td>\n",
       "      <td>0.015160</td>\n",
       "      <td>0.018730</td>\n",
       "      <td>0.023480</td>\n",
       "      <td>0.07895</td>\n",
       "    </tr>\n",
       "    <tr>\n",
       "      <th>fractal_dimension2</th>\n",
       "      <td>569.0</td>\n",
       "      <td>0.003795</td>\n",
       "      <td>0.002646</td>\n",
       "      <td>0.000895</td>\n",
       "      <td>0.002248</td>\n",
       "      <td>0.003187</td>\n",
       "      <td>0.004558</td>\n",
       "      <td>0.02984</td>\n",
       "    </tr>\n",
       "    <tr>\n",
       "      <th>radius3</th>\n",
       "      <td>569.0</td>\n",
       "      <td>16.269190</td>\n",
       "      <td>4.833242</td>\n",
       "      <td>7.930000</td>\n",
       "      <td>13.010000</td>\n",
       "      <td>14.970000</td>\n",
       "      <td>18.790000</td>\n",
       "      <td>36.04000</td>\n",
       "    </tr>\n",
       "    <tr>\n",
       "      <th>texture3</th>\n",
       "      <td>569.0</td>\n",
       "      <td>25.677223</td>\n",
       "      <td>6.146258</td>\n",
       "      <td>12.020000</td>\n",
       "      <td>21.080000</td>\n",
       "      <td>25.410000</td>\n",
       "      <td>29.720000</td>\n",
       "      <td>49.54000</td>\n",
       "    </tr>\n",
       "    <tr>\n",
       "      <th>perimeter3</th>\n",
       "      <td>569.0</td>\n",
       "      <td>107.261213</td>\n",
       "      <td>33.602542</td>\n",
       "      <td>50.410000</td>\n",
       "      <td>84.110000</td>\n",
       "      <td>97.660000</td>\n",
       "      <td>125.400000</td>\n",
       "      <td>251.20000</td>\n",
       "    </tr>\n",
       "    <tr>\n",
       "      <th>area3</th>\n",
       "      <td>569.0</td>\n",
       "      <td>880.583128</td>\n",
       "      <td>569.356993</td>\n",
       "      <td>185.200000</td>\n",
       "      <td>515.300000</td>\n",
       "      <td>686.500000</td>\n",
       "      <td>1084.000000</td>\n",
       "      <td>4254.00000</td>\n",
       "    </tr>\n",
       "    <tr>\n",
       "      <th>smoothness3</th>\n",
       "      <td>569.0</td>\n",
       "      <td>0.132369</td>\n",
       "      <td>0.022832</td>\n",
       "      <td>0.071170</td>\n",
       "      <td>0.116600</td>\n",
       "      <td>0.131300</td>\n",
       "      <td>0.146000</td>\n",
       "      <td>0.22260</td>\n",
       "    </tr>\n",
       "    <tr>\n",
       "      <th>compactness3</th>\n",
       "      <td>569.0</td>\n",
       "      <td>0.254265</td>\n",
       "      <td>0.157336</td>\n",
       "      <td>0.027290</td>\n",
       "      <td>0.147200</td>\n",
       "      <td>0.211900</td>\n",
       "      <td>0.339100</td>\n",
       "      <td>1.05800</td>\n",
       "    </tr>\n",
       "    <tr>\n",
       "      <th>concavity3</th>\n",
       "      <td>569.0</td>\n",
       "      <td>0.272188</td>\n",
       "      <td>0.208624</td>\n",
       "      <td>0.000000</td>\n",
       "      <td>0.114500</td>\n",
       "      <td>0.226700</td>\n",
       "      <td>0.382900</td>\n",
       "      <td>1.25200</td>\n",
       "    </tr>\n",
       "    <tr>\n",
       "      <th>concave_points3</th>\n",
       "      <td>569.0</td>\n",
       "      <td>0.114606</td>\n",
       "      <td>0.065732</td>\n",
       "      <td>0.000000</td>\n",
       "      <td>0.064930</td>\n",
       "      <td>0.099930</td>\n",
       "      <td>0.161400</td>\n",
       "      <td>0.29100</td>\n",
       "    </tr>\n",
       "    <tr>\n",
       "      <th>symmetry3</th>\n",
       "      <td>569.0</td>\n",
       "      <td>0.290076</td>\n",
       "      <td>0.061867</td>\n",
       "      <td>0.156500</td>\n",
       "      <td>0.250400</td>\n",
       "      <td>0.282200</td>\n",
       "      <td>0.317900</td>\n",
       "      <td>0.66380</td>\n",
       "    </tr>\n",
       "    <tr>\n",
       "      <th>fractal_dimension3</th>\n",
       "      <td>569.0</td>\n",
       "      <td>0.083946</td>\n",
       "      <td>0.018061</td>\n",
       "      <td>0.055040</td>\n",
       "      <td>0.071460</td>\n",
       "      <td>0.080040</td>\n",
       "      <td>0.092080</td>\n",
       "      <td>0.20750</td>\n",
       "    </tr>\n",
       "  </tbody>\n",
       "</table>\n",
       "</div>"
      ],
      "text/plain": [
       "                    count        mean         std         min         25%  \\\n",
       "Diagnosis           569.0    0.372583    0.483918    0.000000    0.000000   \n",
       "radius1             569.0   14.127292    3.524049    6.981000   11.700000   \n",
       "texture1            569.0   19.289649    4.301036    9.710000   16.170000   \n",
       "perimeter1          569.0   91.969033   24.298981   43.790000   75.170000   \n",
       "area1               569.0  654.889104  351.914129  143.500000  420.300000   \n",
       "smoothness1         569.0    0.096360    0.014064    0.052630    0.086370   \n",
       "compactness1        569.0    0.104341    0.052813    0.019380    0.064920   \n",
       "concavity1          569.0    0.088799    0.079720    0.000000    0.029560   \n",
       "concave_points1     569.0    0.048919    0.038803    0.000000    0.020310   \n",
       "symmetry1           569.0    0.181162    0.027414    0.106000    0.161900   \n",
       "fractal_dimension1  569.0    0.062798    0.007060    0.049960    0.057700   \n",
       "radius2             569.0    0.405172    0.277313    0.111500    0.232400   \n",
       "texture2            569.0    1.216853    0.551648    0.360200    0.833900   \n",
       "perimeter2          569.0    2.866059    2.021855    0.757000    1.606000   \n",
       "area2               569.0   40.337079   45.491006    6.802000   17.850000   \n",
       "smoothness2         569.0    0.007041    0.003003    0.001713    0.005169   \n",
       "compactness2        569.0    0.025478    0.017908    0.002252    0.013080   \n",
       "concavity2          569.0    0.031894    0.030186    0.000000    0.015090   \n",
       "concave_points2     569.0    0.011796    0.006170    0.000000    0.007638   \n",
       "symmetry2           569.0    0.020542    0.008266    0.007882    0.015160   \n",
       "fractal_dimension2  569.0    0.003795    0.002646    0.000895    0.002248   \n",
       "radius3             569.0   16.269190    4.833242    7.930000   13.010000   \n",
       "texture3            569.0   25.677223    6.146258   12.020000   21.080000   \n",
       "perimeter3          569.0  107.261213   33.602542   50.410000   84.110000   \n",
       "area3               569.0  880.583128  569.356993  185.200000  515.300000   \n",
       "smoothness3         569.0    0.132369    0.022832    0.071170    0.116600   \n",
       "compactness3        569.0    0.254265    0.157336    0.027290    0.147200   \n",
       "concavity3          569.0    0.272188    0.208624    0.000000    0.114500   \n",
       "concave_points3     569.0    0.114606    0.065732    0.000000    0.064930   \n",
       "symmetry3           569.0    0.290076    0.061867    0.156500    0.250400   \n",
       "fractal_dimension3  569.0    0.083946    0.018061    0.055040    0.071460   \n",
       "\n",
       "                           50%          75%         max  \n",
       "Diagnosis             0.000000     1.000000     1.00000  \n",
       "radius1              13.370000    15.780000    28.11000  \n",
       "texture1             18.840000    21.800000    39.28000  \n",
       "perimeter1           86.240000   104.100000   188.50000  \n",
       "area1               551.100000   782.700000  2501.00000  \n",
       "smoothness1           0.095870     0.105300     0.16340  \n",
       "compactness1          0.092630     0.130400     0.34540  \n",
       "concavity1            0.061540     0.130700     0.42680  \n",
       "concave_points1       0.033500     0.074000     0.20120  \n",
       "symmetry1             0.179200     0.195700     0.30400  \n",
       "fractal_dimension1    0.061540     0.066120     0.09744  \n",
       "radius2               0.324200     0.478900     2.87300  \n",
       "texture2              1.108000     1.474000     4.88500  \n",
       "perimeter2            2.287000     3.357000    21.98000  \n",
       "area2                24.530000    45.190000   542.20000  \n",
       "smoothness2           0.006380     0.008146     0.03113  \n",
       "compactness2          0.020450     0.032450     0.13540  \n",
       "concavity2            0.025890     0.042050     0.39600  \n",
       "concave_points2       0.010930     0.014710     0.05279  \n",
       "symmetry2             0.018730     0.023480     0.07895  \n",
       "fractal_dimension2    0.003187     0.004558     0.02984  \n",
       "radius3              14.970000    18.790000    36.04000  \n",
       "texture3             25.410000    29.720000    49.54000  \n",
       "perimeter3           97.660000   125.400000   251.20000  \n",
       "area3               686.500000  1084.000000  4254.00000  \n",
       "smoothness3           0.131300     0.146000     0.22260  \n",
       "compactness3          0.211900     0.339100     1.05800  \n",
       "concavity3            0.226700     0.382900     1.25200  \n",
       "concave_points3       0.099930     0.161400     0.29100  \n",
       "symmetry3             0.282200     0.317900     0.66380  \n",
       "fractal_dimension3    0.080040     0.092080     0.20750  "
      ]
     },
     "execution_count": 22,
     "metadata": {},
     "output_type": "execute_result"
    }
   ],
   "source": [
    "data.describe().T"
   ]
  },
  {
   "cell_type": "markdown",
   "id": "83e379d4-ce65-4fd5-b399-dc270242b5fb",
   "metadata": {},
   "source": [
    "<h4><b>unique</b> values in each columns</h4>"
   ]
  },
  {
   "cell_type": "code",
   "execution_count": 23,
   "id": "f59c72b5-f526-424c-ae55-7cef48f17351",
   "metadata": {
    "scrolled": true
   },
   "outputs": [
    {
     "name": "stdout",
     "output_type": "stream",
     "text": [
      "Diagnosis               2\n",
      "radius1               456\n",
      "texture1              479\n",
      "perimeter1            522\n",
      "area1                 539\n",
      "smoothness1           474\n",
      "compactness1          537\n",
      "concavity1            537\n",
      "concave_points1       542\n",
      "symmetry1             432\n",
      "fractal_dimension1    499\n",
      "radius2               540\n",
      "texture2              519\n",
      "perimeter2            533\n",
      "area2                 528\n",
      "smoothness2           547\n",
      "compactness2          541\n",
      "concavity2            533\n",
      "concave_points2       507\n",
      "symmetry2             498\n",
      "fractal_dimension2    545\n",
      "radius3               457\n",
      "texture3              511\n",
      "perimeter3            514\n",
      "area3                 544\n",
      "smoothness3           411\n",
      "compactness3          529\n",
      "concavity3            539\n",
      "concave_points3       492\n",
      "symmetry3             500\n",
      "fractal_dimension3    535\n",
      "dtype: int64\n"
     ]
    }
   ],
   "source": [
    "unique_columns=data.nunique()\n",
    "print(unique_columns)"
   ]
  },
  {
   "cell_type": "markdown",
   "id": "6042b693-ebc6-4bd6-a8a8-ebb79cbd9b25",
   "metadata": {},
   "source": [
    "<h4>Duplicate Rows</h4>"
   ]
  },
  {
   "cell_type": "code",
   "execution_count": 24,
   "id": "31cc5d76-a1ef-4cdc-8b1f-412d5b899019",
   "metadata": {},
   "outputs": [
    {
     "name": "stdout",
     "output_type": "stream",
     "text": [
      "Number of Rows with Duplicates: 0\n",
      "Percentage of Duplicate Rows: 0.00%\n"
     ]
    }
   ],
   "source": [
    "num_total_rows = len(data)\n",
    "num_duplicate_rows = data.duplicated().sum()\n",
    "percentage_duplicates = (num_duplicate_rows / num_total_rows) * 100\n",
    "print(f\"Number of Rows with Duplicates: {num_duplicate_rows}\")\n",
    "print(f\"Percentage of Duplicate Rows: {percentage_duplicates:.2f}%\")"
   ]
  },
  {
   "cell_type": "markdown",
   "id": "5bd7a945-394c-4681-b06d-4d1c803330c0",
   "metadata": {},
   "source": [
    "<h2>DATA NORMALIZATION</h2>"
   ]
  },
  {
   "cell_type": "code",
   "execution_count": 25,
   "id": "e8221d6f-94d1-48f8-9f94-16b7f7cf34c9",
   "metadata": {
    "scrolled": true
   },
   "outputs": [
    {
     "name": "stdout",
     "output_type": "stream",
     "text": [
      "    radius1  texture1  perimeter1     area1  smoothness1  compactness1  \\\n",
      "0  1.097064 -2.073335    1.269934  0.984375     1.568466      3.283515   \n",
      "1  1.829821 -0.353632    1.685955  1.908708    -0.826962     -0.487072   \n",
      "2  1.579888  0.456187    1.566503  1.558884     0.942210      1.052926   \n",
      "3 -0.768909  0.253732   -0.592687 -0.764464     3.283553      3.402909   \n",
      "4  1.750297 -1.151816    1.776573  1.826229     0.280372      0.539340   \n",
      "\n",
      "   concavity1  concave_points1  symmetry1  fractal_dimension1  ...   radius3  \\\n",
      "0    2.652874         2.532475   2.217515            2.255747  ...  1.886690   \n",
      "1   -0.023846         0.548144   0.001392           -0.868652  ...  1.805927   \n",
      "2    1.363478         2.037231   0.939685           -0.398008  ...  1.511870   \n",
      "3    1.915897         1.451707   2.867383            4.910919  ... -0.281464   \n",
      "4    1.371011         1.428493  -0.009560           -0.562450  ...  1.298575   \n",
      "\n",
      "   texture3  perimeter3     area3  smoothness3  compactness3  concavity3  \\\n",
      "0 -1.359293    2.303601  2.001237     1.307686      2.616665    2.109526   \n",
      "1 -0.369203    1.535126  1.890489    -0.375612     -0.430444   -0.146749   \n",
      "2 -0.023974    1.347475  1.456285     0.527407      1.082932    0.854974   \n",
      "3  0.133984   -0.249939 -0.550021     3.394275      3.893397    1.989588   \n",
      "4 -1.466770    1.338539  1.220724     0.220556     -0.313395    0.613179   \n",
      "\n",
      "   concave_points3  symmetry3  fractal_dimension3  \n",
      "0         2.296076   2.750622            1.937015  \n",
      "1         1.087084  -0.243890            0.281190  \n",
      "2         1.955000   1.152255            0.201391  \n",
      "3         2.175786   6.046041            4.935010  \n",
      "4         0.729259  -0.868353           -0.397100  \n",
      "\n",
      "[5 rows x 30 columns]\n"
     ]
    }
   ],
   "source": [
    "from sklearn.preprocessing import StandardScaler\n",
    "\n",
    "x=data.drop(columns=['Diagnosis'])  #splitting features and target\n",
    "y=data['Diagnosis']\n",
    "scaler=StandardScaler()  #mean and standard deviation of data\n",
    "x_scaled=scaler.fit_transform(x)\n",
    "\n",
    "x_scaled_df=pd.DataFrame(x_scaled,columns=x.columns)\n",
    "print(x_scaled_df.head())"
   ]
  },
  {
   "cell_type": "markdown",
   "id": "71cefee1-e319-46b0-ae8c-5428391c602e",
   "metadata": {},
   "source": [
    "<h2>HANDLING OUTLIERS</h2>"
   ]
  },
  {
   "cell_type": "code",
   "execution_count": 26,
   "id": "8bfba7a8-358b-4ebd-8d6a-4ee822ddb6c6",
   "metadata": {},
   "outputs": [
    {
     "name": "stdout",
     "output_type": "stream",
     "text": [
      "Number of outliers detected: 171\n"
     ]
    }
   ],
   "source": [
    "def detect_outliers_iqr(df):\n",
    "    outliers = pd.DataFrame()\n",
    "    for column in df.columns:\n",
    "        if np.issubdtype(df[column].dtype, np.number):  # Only apply to numeric columns\n",
    "            Q1 = df[column].quantile(0.25)\n",
    "            Q3 = df[column].quantile(0.75)\n",
    "            IQR = Q3 - Q1\n",
    "            lower_bound = Q1 - 1.5 * IQR\n",
    "            upper_bound = Q3 + 1.5 * IQR\n",
    "            # Identify outliers\n",
    "            outliers_in_column = df[(df[column] < lower_bound) | (df[column] > upper_bound)]\n",
    "            outliers = pd.concat([outliers, outliers_in_column], axis=0)\n",
    "    return outliers.drop_duplicates()\n",
    "\n",
    "outliers = detect_outliers_iqr(data)\n",
    "print(f\"Number of outliers detected: {len(outliers)}\")"
   ]
  },
  {
   "cell_type": "code",
   "execution_count": 27,
   "id": "cda03b6b-034e-44e5-9e71-46a23c6ae66e",
   "metadata": {},
   "outputs": [
    {
     "name": "stdout",
     "output_type": "stream",
     "text": [
      "     Diagnosis  radius1  texture1  perimeter1   area1  smoothness1  \\\n",
      "6            1    18.25     19.98      119.60  1040.0      0.09463   \n",
      "7            1    13.71     20.83       90.20   577.9      0.11890   \n",
      "10           1    16.02     23.24      102.70   797.8      0.08206   \n",
      "11           1    15.78     17.89      103.60   781.0      0.09710   \n",
      "13           1    15.85     23.95      103.70   782.7      0.08401   \n",
      "..         ...      ...       ...         ...     ...          ...   \n",
      "554          0    12.88     28.92       82.50   514.3      0.08123   \n",
      "555          0    10.29     27.61       65.67   321.4      0.09030   \n",
      "558          0    14.59     22.68       96.39   657.1      0.08473   \n",
      "560          0    14.05     27.15       91.38   600.4      0.09929   \n",
      "566          1    16.60     28.08      108.30   858.1      0.08455   \n",
      "\n",
      "     compactness1  concavity1  concave_points1  symmetry1  ...  radius3  \\\n",
      "6         0.10900     0.11270          0.07400     0.1794  ...    22.88   \n",
      "7         0.16450     0.09366          0.05985     0.2196  ...    17.06   \n",
      "10        0.06669     0.03299          0.03323     0.1528  ...    19.19   \n",
      "11        0.12920     0.09954          0.06606     0.1842  ...    20.42   \n",
      "13        0.10020     0.09938          0.05364     0.1847  ...    16.84   \n",
      "..            ...         ...              ...        ...  ...      ...   \n",
      "554       0.05824     0.06195          0.02343     0.1566  ...    13.89   \n",
      "555       0.07658     0.05999          0.02738     0.1593  ...    10.84   \n",
      "558       0.13300     0.10290          0.03736     0.1454  ...    15.48   \n",
      "560       0.11260     0.04462          0.04304     0.1537  ...    15.30   \n",
      "566       0.10230     0.09251          0.05302     0.1590  ...    18.98   \n",
      "\n",
      "     texture3  perimeter3   area3  smoothness3  compactness3  concavity3  \\\n",
      "6       27.66      153.20  1606.0       0.1442        0.2576      0.3784   \n",
      "7       28.14      110.60   897.0       0.1654        0.3682      0.2678   \n",
      "10      33.88      123.80  1150.0       0.1181        0.1551      0.1459   \n",
      "11      27.28      136.50  1299.0       0.1396        0.5609      0.3965   \n",
      "13      27.66      112.00   876.5       0.1131        0.1924      0.2322   \n",
      "..        ...         ...     ...          ...           ...         ...   \n",
      "554     35.74       88.84   595.7       0.1227        0.1620      0.2439   \n",
      "555     34.91       69.57   357.6       0.1384        0.1710      0.2000   \n",
      "558     27.27      105.90   733.5       0.1026        0.3171      0.3662   \n",
      "560     33.17      100.20   706.7       0.1241        0.2264      0.1326   \n",
      "566     34.12      126.70  1124.0       0.1139        0.3094      0.3403   \n",
      "\n",
      "     concave_points3  symmetry3  fractal_dimension3  \n",
      "6            0.19320     0.3063             0.08368  \n",
      "7            0.15560     0.3196             0.11510  \n",
      "10           0.09975     0.2948             0.08452  \n",
      "11           0.18100     0.3792             0.10480  \n",
      "13           0.11190     0.2809             0.06287  \n",
      "..               ...        ...                 ...  \n",
      "554          0.06493     0.2372             0.07242  \n",
      "555          0.09127     0.2226             0.08283  \n",
      "558          0.11050     0.2258             0.08004  \n",
      "560          0.10480     0.2250             0.08321  \n",
      "566          0.14180     0.2218             0.07820  \n",
      "\n",
      "[398 rows x 31 columns]\n"
     ]
    }
   ],
   "source": [
    "outliers = outliers[outliers.index.isin(data.index)] \n",
    "data=data.drop(outliers.index,axis=0)\n",
    "print(data)"
   ]
  },
  {
   "cell_type": "markdown",
   "id": "0d215a2c-70bf-4365-93ca-a8ba7206e3ec",
   "metadata": {},
   "source": [
    "<h2>DATA VISUALIZATION</h2>"
   ]
  },
  {
   "cell_type": "code",
   "execution_count": 29,
   "id": "76025df6-4da4-4c3c-b4f1-d6551e482533",
   "metadata": {},
   "outputs": [
    {
     "name": "stdout",
     "output_type": "stream",
     "text": [
      "Collecting seaborn\n",
      "  Using cached seaborn-0.13.2-py3-none-any.whl.metadata (5.4 kB)\n",
      "Requirement already satisfied: numpy!=1.24.0,>=1.20 in c:\\users\\91949\\appdata\\roaming\\jupyterlab-desktop\\jlab_server\\lib\\site-packages (from seaborn) (2.1.0)\n",
      "Requirement already satisfied: pandas>=1.2 in c:\\users\\91949\\appdata\\roaming\\jupyterlab-desktop\\jlab_server\\lib\\site-packages (from seaborn) (2.2.2)\n",
      "Requirement already satisfied: matplotlib!=3.6.1,>=3.4 in c:\\users\\91949\\appdata\\roaming\\jupyterlab-desktop\\jlab_server\\lib\\site-packages (from seaborn) (3.9.2)\n",
      "Requirement already satisfied: contourpy>=1.0.1 in c:\\users\\91949\\appdata\\roaming\\jupyterlab-desktop\\jlab_server\\lib\\site-packages (from matplotlib!=3.6.1,>=3.4->seaborn) (1.2.1)\n",
      "Requirement already satisfied: cycler>=0.10 in c:\\users\\91949\\appdata\\roaming\\jupyterlab-desktop\\jlab_server\\lib\\site-packages (from matplotlib!=3.6.1,>=3.4->seaborn) (0.12.1)\n",
      "Requirement already satisfied: fonttools>=4.22.0 in c:\\users\\91949\\appdata\\roaming\\jupyterlab-desktop\\jlab_server\\lib\\site-packages (from matplotlib!=3.6.1,>=3.4->seaborn) (4.53.1)\n",
      "Requirement already satisfied: kiwisolver>=1.3.1 in c:\\users\\91949\\appdata\\roaming\\jupyterlab-desktop\\jlab_server\\lib\\site-packages (from matplotlib!=3.6.1,>=3.4->seaborn) (1.4.5)\n",
      "Requirement already satisfied: packaging>=20.0 in c:\\users\\91949\\appdata\\roaming\\jupyterlab-desktop\\jlab_server\\lib\\site-packages (from matplotlib!=3.6.1,>=3.4->seaborn) (24.1)\n",
      "Requirement already satisfied: pillow>=8 in c:\\users\\91949\\appdata\\roaming\\jupyterlab-desktop\\jlab_server\\lib\\site-packages (from matplotlib!=3.6.1,>=3.4->seaborn) (10.4.0)\n",
      "Requirement already satisfied: pyparsing>=2.3.1 in c:\\users\\91949\\appdata\\roaming\\jupyterlab-desktop\\jlab_server\\lib\\site-packages (from matplotlib!=3.6.1,>=3.4->seaborn) (3.1.4)\n",
      "Requirement already satisfied: python-dateutil>=2.7 in c:\\users\\91949\\appdata\\roaming\\jupyterlab-desktop\\jlab_server\\lib\\site-packages (from matplotlib!=3.6.1,>=3.4->seaborn) (2.9.0)\n",
      "Requirement already satisfied: pytz>=2020.1 in c:\\users\\91949\\appdata\\roaming\\jupyterlab-desktop\\jlab_server\\lib\\site-packages (from pandas>=1.2->seaborn) (2024.1)\n",
      "Requirement already satisfied: tzdata>=2022.7 in c:\\users\\91949\\appdata\\roaming\\jupyterlab-desktop\\jlab_server\\lib\\site-packages (from pandas>=1.2->seaborn) (2024.1)\n",
      "Requirement already satisfied: six>=1.5 in c:\\users\\91949\\appdata\\roaming\\jupyterlab-desktop\\jlab_server\\lib\\site-packages (from python-dateutil>=2.7->matplotlib!=3.6.1,>=3.4->seaborn) (1.16.0)\n",
      "Using cached seaborn-0.13.2-py3-none-any.whl (294 kB)\n",
      "Installing collected packages: seaborn\n",
      "Successfully installed seaborn-0.13.2\n"
     ]
    }
   ],
   "source": [
    "!pip install seaborn\n"
   ]
  },
  {
   "cell_type": "code",
   "execution_count": 30,
   "id": "7db510bf-6dbf-4547-9af1-d96e23f062f1",
   "metadata": {},
   "outputs": [
    {
     "data": {
      "image/png": "[encoded data removed]",
      "text/plain": [
       "<Figure size 800x800 with 1 Axes>"
      ]
     },
     "metadata": {},
     "output_type": "display_data"
    }
   ],
   "source": [
    "import matplotlib.pyplot as plt\n",
    "import seaborn as sns\n",
    "\n",
    "# Map 1 to \"Malignant\" and 0 to \"Benign\"\n",
    "data['Diagnosis'] = data['Diagnosis'].map({1: 'Malignant', 0: 'Benign'})\n",
    "\n",
    "# Calculate counts and prepare labels with counts and percentages\n",
    "counts = data['Diagnosis'].value_counts()\n",
    "labels = [f'{label} - {count} ({count / sum(counts) * 100:.1f}%)' for label, count in zip(counts.index, counts)]\n",
    "\n",
    "# Use a color palette for distinct colors\n",
    "colors = sns.color_palette(\"Set2\", len(counts))\n",
    "\n",
    "# Create the pie chart\n",
    "plt.figure(figsize=(8, 8))\n",
    "plt.pie(\n",
    "    counts,\n",
    "    labels=labels,\n",
    "    autopct='%1.1f%%',       # Show percentage on each slice\n",
    "    startangle=140,          # Rotate for better readability\n",
    "    colors=colors,           # Apply color palette\n",
    "    wedgeprops={'edgecolor': 'gray'},  # Edge around slices\n",
    "    shadow=True              # Add shadow for 3D effect\n",
    ")\n",
    "\n",
    "plt.title(\"Count and Percentage of Benign vs Malignant Diagnoses\", fontsize=16)\n",
    "plt.show()\n"
   ]
  },
  {
   "cell_type": "code",
   "execution_count": 31,
   "id": "08462430-35ce-42d2-960c-5a994f992b47",
   "metadata": {},
   "outputs": [
    {
     "name": "stdout",
     "output_type": "stream",
     "text": [
      "    radius1  texture1  perimeter1     area1  smoothness1  compactness1  \\\n",
      "0  1.964461  0.377377    1.973596  2.108920     0.112751      0.650915   \n",
      "1  0.134540  0.594978    0.225722  0.033027     2.126689      2.239566   \n",
      "2  1.065623  1.211941    0.968866  1.020884    -0.930314     -0.560180   \n",
      "3  0.968887 -0.157666    1.022372  0.945414     0.317713      1.229127   \n",
      "4  0.997102  1.393701    1.028317  0.953051    -0.768502      0.399021   \n",
      "\n",
      "   concavity1  concave_points1  symmetry1  fractal_dimension1  ...   radius3  \\\n",
      "0    1.066356         1.488638   0.277054           -0.756789  ...  2.413510   \n",
      "1    0.677832         0.935739   2.210386            2.655183  ...  0.610898   \n",
      "2   -0.560181        -0.104415  -1.002217           -0.846630  ...  1.270617   \n",
      "3    0.797817         1.178389   0.507899           -0.077988  ...  1.651581   \n",
      "4    0.794553         0.693088   0.531946           -1.563363  ...  0.542758   \n",
      "\n",
      "   texture3  perimeter3     area3  smoothness3  compactness3  concavity3  \\\n",
      "0  0.521788    2.468580  2.665355     0.767070      0.428375    1.121869   \n",
      "1  0.607065    0.541116  0.511879     1.815139      1.456575    0.369659   \n",
      "2  1.626840    1.138359  1.280326    -0.523241     -0.524523   -0.459405   \n",
      "3  0.454277    1.712978  1.732891     0.539659      3.248023    1.244971   \n",
      "4  0.521788    0.604460  0.449613    -0.770426     -0.177761    0.127537   \n",
      "\n",
      "   concave_points3  symmetry3  fractal_dimension3  \n",
      "0         1.941020   0.625692            0.333092  \n",
      "1         1.187592   0.931552            2.854076  \n",
      "2         0.068471   0.361226            0.400490  \n",
      "3         1.696556   2.302172            2.027655  \n",
      "4         0.311933   0.041568           -1.336598  \n",
      "\n",
      "[5 rows x 30 columns]\n"
     ]
    }
   ],
   "source": [
    "from sklearn.preprocessing import StandardScaler\n",
    "\n",
    "x=data.drop(columns=['Diagnosis'])  #splitting features and target\n",
    "y=data['Diagnosis']\n",
    "scaler=StandardScaler()  #mean and standard deviation of data\n",
    "x_scaled=scaler.fit_transform(x)\n",
    "\n",
    "x_scaled_df=pd.DataFrame(x_scaled,columns=x.columns)\n",
    "print(x_scaled_df.head())"
   ]
  },
  {
   "cell_type": "markdown",
   "id": "e6b63511-6e88-46f2-9bc9-5104fa9f990b",
   "metadata": {},
   "source": [
    "<h2>Splitting the data</h2>"
   ]
  },
  {
   "cell_type": "code",
   "execution_count": 32,
   "id": "8d5822ef-e023-4bcc-a7f6-379bdb7738f7",
   "metadata": {},
   "outputs": [],
   "source": [
    "from sklearn.model_selection import train_test_split\n",
    "\n",
    "x_train,x_test,y_train,y_test=train_test_split(x_scaled,y,test_size=0.2,random_state=42)"
   ]
  },
  {
   "cell_type": "code",
   "execution_count": 33,
   "id": "4c612186-1a95-4a75-8a57-4d9abb01a39b",
   "metadata": {},
   "outputs": [
    {
     "name": "stdout",
     "output_type": "stream",
     "text": [
      "Train data: (318, 30)\n",
      "Test data: (80, 30)\n"
     ]
    }
   ],
   "source": [
    "print(f\"Train data: {x_train.shape}\")\n",
    "print(f\"Test data: {x_test.shape}\")"
   ]
  },
  {
   "cell_type": "code",
   "execution_count": 34,
   "id": "b4c1451f-18b9-4a52-801d-27854718f59c",
   "metadata": {},
   "outputs": [
    {
     "name": "stdout",
     "output_type": "stream",
     "text": [
      "Collecting imblearn\n",
      "  Downloading imblearn-0.0-py2.py3-none-any.whl.metadata (355 bytes)\n",
      "Collecting imbalanced-learn (from imblearn)\n",
      "  Using cached imbalanced_learn-0.12.4-py3-none-any.whl.metadata (8.3 kB)\n",
      "Requirement already satisfied: numpy>=1.17.3 in c:\\users\\91949\\appdata\\roaming\\jupyterlab-desktop\\jlab_server\\lib\\site-packages (from imbalanced-learn->imblearn) (2.1.0)\n",
      "Requirement already satisfied: scipy>=1.5.0 in c:\\users\\91949\\appdata\\roaming\\jupyterlab-desktop\\jlab_server\\lib\\site-packages (from imbalanced-learn->imblearn) (1.14.1)\n",
      "Requirement already satisfied: scikit-learn>=1.0.2 in c:\\users\\91949\\appdata\\roaming\\jupyterlab-desktop\\jlab_server\\lib\\site-packages (from imbalanced-learn->imblearn) (1.5.2)\n",
      "Requirement already satisfied: joblib>=1.1.1 in c:\\users\\91949\\appdata\\roaming\\jupyterlab-desktop\\jlab_server\\lib\\site-packages (from imbalanced-learn->imblearn) (1.4.2)\n",
      "Requirement already satisfied: threadpoolctl>=2.0.0 in c:\\users\\91949\\appdata\\roaming\\jupyterlab-desktop\\jlab_server\\lib\\site-packages (from imbalanced-learn->imblearn) (3.5.0)\n",
      "Downloading imblearn-0.0-py2.py3-none-any.whl (1.9 kB)\n",
      "Using cached imbalanced_learn-0.12.4-py3-none-any.whl (258 kB)\n",
      "Installing collected packages: imbalanced-learn, imblearn\n",
      "Successfully installed imbalanced-learn-0.12.4 imblearn-0.0\n"
     ]
    }
   ],
   "source": [
    "!pip install imblearn\n"
   ]
  },
  {
   "cell_type": "markdown",
   "id": "9fd5f810-164e-4b17-848b-171a8483bf51",
   "metadata": {},
   "source": [
    "<h2>Implementing SMOTE</h2>"
   ]
  },
  {
   "cell_type": "code",
   "execution_count": 35,
   "id": "2f4c4308-c9b3-47ad-b0bb-1c7eea61bde0",
   "metadata": {},
   "outputs": [
    {
     "name": "stdout",
     "output_type": "stream",
     "text": [
      "Diagnosis\n",
      "Malignant    245\n",
      "Benign       245\n",
      "Name: count, dtype: int64\n"
     ]
    }
   ],
   "source": [
    "from imblearn.over_sampling import SMOTE\n",
    "\n",
    "smote=SMOTE(random_state=42)\n",
    "x_train_resampled,y_train_resampled=smote.fit_resample(x_train,y_train)\n",
    "print(pd.Series(y_train_resampled).value_counts())"
   ]
  },
  {
   "cell_type": "code",
   "execution_count": 22,
   "id": "83482826-2466-4b01-bc8c-afedb7f5053e",
   "metadata": {},
   "outputs": [],
   "source": [
    "smote = SMOTE(random_state=42)\n",
    "x_train_resampled, y_train_resampled = smote.fit_resample(x_train, y_train)"
   ]
  },
  {
   "cell_type": "code",
   "execution_count": 36,
   "id": "d1948a12-2a2f-43ed-84fd-35b7b0261ca1",
   "metadata": {
    "scrolled": true
   },
   "outputs": [
    {
     "data": {
      "image/png": "[encoded data removed]",
      "text/plain": [
       "<Figure size 600x400 with 1 Axes>"
      ]
     },
     "metadata": {},
     "output_type": "display_data"
    }
   ],
   "source": [
    "plt.figure(figsize=(6, 4))\n",
    "sns.countplot(x=y_train)\n",
    "plt.title(\"Class distribution before SMOTE\")\n",
    "plt.xlabel(\"Class\")\n",
    "plt.ylabel(\"Count\")\n",
    "plt.xticks([0, 1], [\"Benign\", \"Malignant\"])  # Sets labels for x-axis ticks\n",
    "\n",
    "# Adding count annotations on top of each bar\n",
    "for p in plt.gca().patches:\n",
    "    plt.gca().annotate(f'{int(p.get_height())}', \n",
    "                       (p.get_x() + p.get_width() / 2, p.get_height()), \n",
    "                       ha='center', va='bottom')\n",
    "\n",
    "plt.show()\n"
   ]
  },
  {
   "cell_type": "code",
   "execution_count": 37,
   "id": "f1037ece-c000-431b-a912-efe718763488",
   "metadata": {},
   "outputs": [
    {
     "data": {
      "image/png": "[encoded data removed]",
      "text/plain": [
       "<Figure size 600x400 with 1 Axes>"
      ]
     },
     "metadata": {},
     "output_type": "display_data"
    }
   ],
   "source": [
    "plt.figure(figsize=(6, 4))\n",
    "sns.countplot(x=y_train_resampled)\n",
    "plt.title(\"Class Distribution after SMOTE\")\n",
    "plt.xlabel(\"Class\")\n",
    "plt.ylabel(\"Count\")\n",
    "plt.xticks([0, 1], [\"Benign\", \"Malignant\"])  # Sets labels for x-axis ticks\n",
    "\n",
    "# Adding count annotations on top of each bar\n",
    "for p in plt.gca().patches:\n",
    "    plt.gca().annotate(f'{int(p.get_height())}', \n",
    "                       (p.get_x() + p.get_width() / 2, p.get_height()), \n",
    "                       ha='center', va='bottom')\n",
    "\n",
    "plt.show()\n"
   ]
  },
  {
   "cell_type": "markdown",
   "id": "5806f19a-45c0-4ae6-99bf-3a71dd226da2",
   "metadata": {},
   "source": [
    "<h2>Implementing the ADABOOST classifer</h2>"
   ]
  },
  {
   "cell_type": "code",
   "execution_count": 38,
   "id": "a206ce34-62f4-459f-a9a8-f3cbadcc76ee",
   "metadata": {},
   "outputs": [],
   "source": [
    "from sklearn.ensemble import AdaBoostClassifier\n",
    "from sklearn.tree import DecisionTreeClassifier\n",
    "from sklearn.metrics import accuracy_score, precision_score, recall_score, f1_score\n",
    "\n",
    "\n",
    "base_classifier=DecisionTreeClassifier(max_depth=1)\n",
    "ada_boost=AdaBoostClassifier(estimator=base_classifier,n_estimators=50,algorithm='SAMME',random_state=42)\n",
    "ada_boost.fit(x_train_resampled,y_train_resampled)\n",
    "y_pred=ada_boost.predict(x_test)"
   ]
  },
  {
   "cell_type": "markdown",
   "id": "e53a08b7-55db-42b0-8b3d-a29ba0757f1c",
   "metadata": {},
   "source": [
    "<h3>Calculating the matrix</h3>"
   ]
  },
  {
   "cell_type": "code",
   "execution_count": 39,
   "id": "fd042846-0af7-4374-88ad-e749587c4ed4",
   "metadata": {},
   "outputs": [],
   "source": [
    "precision = precision_score(y_test, y_pred, pos_label='Malignant')\n",
    "recall = recall_score(y_test, y_pred, pos_label='Malignant')\n",
    "f1 = f1_score(y_test, y_pred, pos_label='Malignant')\n",
    "accuracy = accuracy_score(y_test, y_pred)\n"
   ]
  },
  {
   "cell_type": "code",
   "execution_count": 40,
   "id": "c95a2446-d35d-49fe-86b5-c0c9a7d5fc51",
   "metadata": {},
   "outputs": [],
   "source": [
    "y_pred = ada_boost.predict(x_test)"
   ]
  },
  {
   "cell_type": "markdown",
   "id": "bd8b9283-7d9c-42bd-92c6-5e24b59d3c4d",
   "metadata": {},
   "source": [
    "<h2>RESULT</h2>"
   ]
  },
  {
   "cell_type": "code",
   "execution_count": 41,
   "id": "4af111c6-31b1-49d1-b8ed-4ba333c0a22b",
   "metadata": {},
   "outputs": [
    {
     "name": "stdout",
     "output_type": "stream",
     "text": [
      "Accuracy: 0.9625\n",
      "Precision: 0.9583333333333334\n",
      "Recall: 0.92\n",
      "F1 Score: 0.9387755102040817\n"
     ]
    }
   ],
   "source": [
    "print(\"Accuracy:\", accuracy)\n",
    "print(\"Precision:\", precision)\n",
    "print(\"Recall:\", recall)\n",
    "print(\"F1 Score:\", f1)"
   ]
  },
  {
   "cell_type": "markdown",
   "id": "c9ccc5c2-a3d7-446c-9d62-a9e80dbe5af6",
   "metadata": {},
   "source": [
    "<h3>Confusion Matrix</h3>"
   ]
  },
  {
   "cell_type": "code",
   "execution_count": 42,
   "id": "16fba4a3-13c0-4941-9a82-d58bf98c0e00",
   "metadata": {},
   "outputs": [
    {
     "data": {
      "image/png": "[encoded data removed]",
      "text/plain": [
       "<Figure size 600x400 with 1 Axes>"
      ]
     },
     "metadata": {},
     "output_type": "display_data"
    }
   ],
   "source": [
    "from sklearn.metrics import confusion_matrix\n",
    "import matplotlib.pyplot as plt\n",
    "import seaborn as sns\n",
    "\n",
    "# Calculate the confusion matrix\n",
    "conf_matrix = confusion_matrix(y_test, y_pred)\n",
    "\n",
    "# Plot the confusion matrix\n",
    "plt.figure(figsize=(6, 4))\n",
    "sns.heatmap(conf_matrix, annot=True, fmt=\"d\", cmap=\"Blues\", cbar=False,\n",
    "            xticklabels=['Predicted Negative', 'Predicted Positive'],\n",
    "            yticklabels=['Actual Negative', 'Actual Positive'])\n",
    "plt.xlabel(\"Predicted Labels\")\n",
    "plt.ylabel(\"Actual Labels\")\n",
    "plt.title(\"Confusion Matrix\")\n",
    "plt.show()\n"
   ]
  },
  {
   "cell_type": "markdown",
   "id": "ef00c637-cd99-4ce0-8185-3f8dbd00cb32",
   "metadata": {},
   "source": [
    "<h3>Classification Report</h3>"
   ]
  },
  {
   "cell_type": "code",
   "execution_count": 43,
   "id": "94d14ae5-9d4e-4301-901e-39d344d5ede9",
   "metadata": {},
   "outputs": [
    {
     "name": "stdout",
     "output_type": "stream",
     "text": [
      "Classification Report:\n",
      "               precision    recall  f1-score   support\n",
      "\n",
      "      Benign       0.96      0.98      0.97        55\n",
      "   Malignant       0.96      0.92      0.94        25\n",
      "\n",
      "    accuracy                           0.96        80\n",
      "   macro avg       0.96      0.95      0.96        80\n",
      "weighted avg       0.96      0.96      0.96        80\n",
      "\n"
     ]
    }
   ],
   "source": [
    "from sklearn.metrics import classification_report\n",
    "\n",
    "# Generate the classification report\n",
    "report_smote = classification_report(y_test, y_pred)\n",
    "\n",
    "# Print the classification report\n",
    "print(\"Classification Report:\\n\", report_smote)"
   ]
  },
  {
   "cell_type": "code",
   "execution_count": 48,
   "id": "42015bf0-5ffa-4801-b612-6e3f58fac202",
   "metadata": {},
   "outputs": [
    {
     "name": "stdout",
     "output_type": "stream",
     "text": [
      "Best Parameters: {'estimator__max_depth': 3, 'learning_rate': 0.1, 'n_estimators': 100}\n",
      "Best Score: 0.9085714285714286\n",
      "Tuned Accuracy: 0.8966666666666666\n",
      "Tuned Precision: 0.9280575539568345\n",
      "Tuned Recall: 0.86\n",
      "Tuned F1 Score: 0.8927335640138409\n"
     ]
    }
   ],
   "source": [
    "from sklearn.tree import DecisionTreeClassifier\n",
    "from sklearn.ensemble import AdaBoostClassifier\n",
    "from sklearn.model_selection import train_test_split, GridSearchCV\n",
    "from sklearn.metrics import accuracy_score, precision_score, recall_score, f1_score\n",
    "from imblearn.over_sampling import SMOTE\n",
    "\n",
    "# Example data loading (replace with your actual data)\n",
    "from sklearn.datasets import make_classification\n",
    "X, y = make_classification(n_samples=1000, n_features=20, n_classes=2, random_state=42)\n",
    "\n",
    "# Split the data into training and test sets\n",
    "x_train, x_test, y_train, y_test = train_test_split(X, y, test_size=0.3, random_state=42, stratify=y)\n",
    "\n",
    "# Apply SMOTE to balance the training data\n",
    "smote = SMOTE(random_state=42)\n",
    "x_train_resampled, y_train_resampled = smote.fit_resample(x_train, y_train)\n",
    "\n",
    "# Define the parameter grid for AdaBoost\n",
    "param_grid = {\n",
    "    'n_estimators': [10, 50, 100, 200],       # Number of boosting stages\n",
    "    'learning_rate': [0.01, 0.1, 0.5, 1.0],  # Learning rate shrinks the contribution of each classifier\n",
    "    'estimator__max_depth': [1, 2, 3],       # Maximum depth of the base decision tree\n",
    "}\n",
    "\n",
    "# Initialize the base classifier\n",
    "base_classifier = DecisionTreeClassifier()\n",
    "\n",
    "# Initialize the AdaBoost classifier with SAMME algorithm\n",
    "ada_boost = AdaBoostClassifier(estimator=base_classifier, algorithm=\"SAMME\")\n",
    "\n",
    "# Use GridSearchCV to find the best parameters\n",
    "grid_search = GridSearchCV(estimator=ada_boost, param_grid=param_grid, cv=5, scoring='accuracy', n_jobs=-1)\n",
    "\n",
    "# Fit the model with resampled data\n",
    "grid_search.fit(x_train_resampled, y_train_resampled)\n",
    "\n",
    "# Display the best parameters and best score\n",
    "print(\"Best Parameters:\", grid_search.best_params_)\n",
    "print(\"Best Score:\", grid_search.best_score_)\n",
    "\n",
    "# Use the best estimator to predict and evaluate\n",
    "best_model = grid_search.best_estimator_\n",
    "y_pred_tuned = best_model.predict(x_test)\n",
    "\n",
    "# Recalculate metrics\n",
    "accuracy_tuned = accuracy_score(y_test, y_pred_tuned)\n",
    "precision_tuned = precision_score(y_test, y_pred_tuned)\n",
    "recall_tuned = recall_score(y_test, y_pred_tuned)\n",
    "f1_tuned = f1_score(y_test, y_pred_tuned)\n",
    "\n",
    "print(\"Tuned Accuracy:\", accuracy_tuned)\n",
    "print(\"Tuned Precision:\", precision_tuned)\n",
    "print(\"Tuned Recall:\", recall_tuned)\n",
    "print(\"Tuned F1 Score:\", f1_tuned)\n"
   ]
  },
  {
   "cell_type": "code",
   "execution_count": null,
   "id": "045b026d-b8fc-437d-9675-710e883932ea",
   "metadata": {},
   "outputs": [],
   "source": []
  }
 ],
 "metadata": {
  "kernelspec": {
   "display_name": "Python 3 (ipykernel)",
   "language": "python",
   "name": "python3"
  },
  "language_info": {
   "codemirror_mode": {
    "name": "ipython",
    "version": 3
   },
   "file_extension": ".py",
   "mimetype": "text/x-python",
   "name": "python",
   "nbconvert_exporter": "python",
   "pygments_lexer": "ipython3",
   "version": "3.12.5"
  }
 },
 "nbformat": 4,
 "nbformat_minor": 5
}
